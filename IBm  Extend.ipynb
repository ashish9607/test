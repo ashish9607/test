{
 "cells": [
  {
   "cell_type": "code",
   "execution_count": 8,
   "id": "6f9a644c",
   "metadata": {},
   "outputs": [],
   "source": [
    "from selenium import webdriver\n",
    "from selenium.webdriver.common.by import By\n",
    "from selenium.webdriver.support.ui import WebDriverWait\n",
    "from selenium.webdriver.support import expected_conditions as EC\n",
    "import datetime as DT\n",
    "import time"
   ]
  },
  {
   "cell_type": "code",
   "execution_count": null,
   "id": "580a9dbe",
   "metadata": {},
   "outputs": [],
   "source": []
  },
  {
   "cell_type": "code",
   "execution_count": null,
   "id": "40600ff6",
   "metadata": {},
   "outputs": [],
   "source": []
  },
  {
   "cell_type": "code",
   "execution_count": null,
   "id": "c91977fb",
   "metadata": {},
   "outputs": [],
   "source": []
  },
  {
   "cell_type": "code",
   "execution_count": 9,
   "id": "49f2dcf8",
   "metadata": {},
   "outputs": [],
   "source": [
    "import os\n",
    "os.environ[\"webdriver.chrome.driver\"] = r'D:\\Jupyter Notebooks\\All Notebooks\\chromedriver.exe'"
   ]
  },
  {
   "cell_type": "code",
   "execution_count": null,
   "id": "97c339b6",
   "metadata": {},
   "outputs": [],
   "source": []
  },
  {
   "cell_type": "code",
   "execution_count": 11,
   "id": "a9bc9c91",
   "metadata": {},
   "outputs": [
    {
     "name": "stderr",
     "output_type": "stream",
     "text": [
      "<ipython-input-11-1234995f3d20>:3: DeprecationWarning: use options instead of chrome_options\n",
      "  driver = webdriver.Chrome(chrome_options=chrome_options)\n"
     ]
    },
    {
     "ename": "NoSuchWindowException",
     "evalue": "Message: no such window: target window already closed\nfrom unknown error: web view not found\n  (Session info: chrome=106.0.5249.119)\nStacktrace:\nBacktrace:\n\tOrdinal0 [0x005A1ED3+2236115]\n\tOrdinal0 [0x005392F1+1807089]\n\tOrdinal0 [0x004466FD+812797]\n\tOrdinal0 [0x0042DFFA+712698]\n\tOrdinal0 [0x0049506B+1134699]\n\tOrdinal0 [0x004A514A+1200458]\n\tOrdinal0 [0x004918A6+1120422]\n\tOrdinal0 [0x0046A73D+960317]\n\tOrdinal0 [0x0046B71F+964383]\n\tGetHandleVerifier [0x0084E7E2+2743074]\n\tGetHandleVerifier [0x008408D4+2685972]\n\tGetHandleVerifier [0x00632BAA+532202]\n\tGetHandleVerifier [0x00631990+527568]\n\tOrdinal0 [0x0054080C+1837068]\n\tOrdinal0 [0x00544CD8+1854680]\n\tOrdinal0 [0x00544DC5+1854917]\n\tOrdinal0 [0x0054ED64+1895780]\n\tBaseThreadInitThunk [0x75606739+25]\n\tRtlGetFullPathName_UEx [0x77788FD2+1218]\n\tRtlGetFullPathName_UEx [0x77788F9D+1165]\n",
     "output_type": "error",
     "traceback": [
      "\u001b[1;31m---------------------------------------------------------------------------\u001b[0m",
      "\u001b[1;31mNoSuchWindowException\u001b[0m                     Traceback (most recent call last)",
      "\u001b[1;32m<ipython-input-11-1234995f3d20>\u001b[0m in \u001b[0;36m<module>\u001b[1;34m\u001b[0m\n\u001b[0;32m     13\u001b[0m \u001b[0mtime\u001b[0m\u001b[1;33m.\u001b[0m\u001b[0msleep\u001b[0m\u001b[1;33m(\u001b[0m\u001b[1;36m1\u001b[0m\u001b[1;33m)\u001b[0m\u001b[1;33m\u001b[0m\u001b[1;33m\u001b[0m\u001b[0m\n\u001b[0;32m     14\u001b[0m \u001b[0mxpaths\u001b[0m\u001b[1;33m=\u001b[0m\u001b[1;34m\"//a[@data-autoid='dds--card' and @data-href='/my/reservations/ibmcloud-2/6322a93a2a60c100188ab972']//div[@class='bx--card__container']//div[@class='bx--card__wrapper']//div[@class='bx--card__menu']//button[@type='button']\"\u001b[0m\u001b[1;33m\u001b[0m\u001b[1;33m\u001b[0m\u001b[0m\n\u001b[1;32m---> 15\u001b[1;33m \u001b[0moption\u001b[0m\u001b[1;33m=\u001b[0m\u001b[0mWebDriverWait\u001b[0m\u001b[1;33m(\u001b[0m\u001b[0mdriver\u001b[0m\u001b[1;33m,\u001b[0m \u001b[1;36m100\u001b[0m\u001b[1;33m)\u001b[0m\u001b[1;33m.\u001b[0m\u001b[0muntil\u001b[0m\u001b[1;33m(\u001b[0m\u001b[0mEC\u001b[0m\u001b[1;33m.\u001b[0m\u001b[0mpresence_of_element_located\u001b[0m\u001b[1;33m(\u001b[0m\u001b[1;33m(\u001b[0m\u001b[0mBy\u001b[0m\u001b[1;33m.\u001b[0m\u001b[0mXPATH\u001b[0m\u001b[1;33m,\u001b[0m\u001b[0mxpaths\u001b[0m\u001b[1;33m)\u001b[0m\u001b[1;33m)\u001b[0m\u001b[1;33m)\u001b[0m\u001b[1;33m\u001b[0m\u001b[1;33m\u001b[0m\u001b[0m\n\u001b[0m\u001b[0;32m     16\u001b[0m \u001b[0moption\u001b[0m\u001b[1;33m.\u001b[0m\u001b[0mclick\u001b[0m\u001b[1;33m(\u001b[0m\u001b[1;33m)\u001b[0m\u001b[1;33m\u001b[0m\u001b[1;33m\u001b[0m\u001b[0m\n\u001b[0;32m     17\u001b[0m \u001b[0mtime\u001b[0m\u001b[1;33m.\u001b[0m\u001b[0msleep\u001b[0m\u001b[1;33m(\u001b[0m\u001b[1;36m5\u001b[0m\u001b[1;33m)\u001b[0m\u001b[1;33m\u001b[0m\u001b[1;33m\u001b[0m\u001b[0m\n",
      "\u001b[1;32m~\\AppData\\Roaming\\Python\\Python38\\site-packages\\selenium\\webdriver\\support\\wait.py\u001b[0m in \u001b[0;36muntil\u001b[1;34m(self, method, message)\u001b[0m\n\u001b[0;32m     79\u001b[0m         \u001b[1;32mwhile\u001b[0m \u001b[1;32mTrue\u001b[0m\u001b[1;33m:\u001b[0m\u001b[1;33m\u001b[0m\u001b[1;33m\u001b[0m\u001b[0m\n\u001b[0;32m     80\u001b[0m             \u001b[1;32mtry\u001b[0m\u001b[1;33m:\u001b[0m\u001b[1;33m\u001b[0m\u001b[1;33m\u001b[0m\u001b[0m\n\u001b[1;32m---> 81\u001b[1;33m                 \u001b[0mvalue\u001b[0m \u001b[1;33m=\u001b[0m \u001b[0mmethod\u001b[0m\u001b[1;33m(\u001b[0m\u001b[0mself\u001b[0m\u001b[1;33m.\u001b[0m\u001b[0m_driver\u001b[0m\u001b[1;33m)\u001b[0m\u001b[1;33m\u001b[0m\u001b[1;33m\u001b[0m\u001b[0m\n\u001b[0m\u001b[0;32m     82\u001b[0m                 \u001b[1;32mif\u001b[0m \u001b[0mvalue\u001b[0m\u001b[1;33m:\u001b[0m\u001b[1;33m\u001b[0m\u001b[1;33m\u001b[0m\u001b[0m\n\u001b[0;32m     83\u001b[0m                     \u001b[1;32mreturn\u001b[0m \u001b[0mvalue\u001b[0m\u001b[1;33m\u001b[0m\u001b[1;33m\u001b[0m\u001b[0m\n",
      "\u001b[1;32m~\\AppData\\Roaming\\Python\\Python38\\site-packages\\selenium\\webdriver\\support\\expected_conditions.py\u001b[0m in \u001b[0;36m_predicate\u001b[1;34m(driver)\u001b[0m\n\u001b[0;32m     62\u001b[0m \u001b[1;33m\u001b[0m\u001b[0m\n\u001b[0;32m     63\u001b[0m     \u001b[1;32mdef\u001b[0m \u001b[0m_predicate\u001b[0m\u001b[1;33m(\u001b[0m\u001b[0mdriver\u001b[0m\u001b[1;33m)\u001b[0m\u001b[1;33m:\u001b[0m\u001b[1;33m\u001b[0m\u001b[1;33m\u001b[0m\u001b[0m\n\u001b[1;32m---> 64\u001b[1;33m         \u001b[1;32mreturn\u001b[0m \u001b[0mdriver\u001b[0m\u001b[1;33m.\u001b[0m\u001b[0mfind_element\u001b[0m\u001b[1;33m(\u001b[0m\u001b[1;33m*\u001b[0m\u001b[0mlocator\u001b[0m\u001b[1;33m)\u001b[0m\u001b[1;33m\u001b[0m\u001b[1;33m\u001b[0m\u001b[0m\n\u001b[0m\u001b[0;32m     65\u001b[0m \u001b[1;33m\u001b[0m\u001b[0m\n\u001b[0;32m     66\u001b[0m     \u001b[1;32mreturn\u001b[0m \u001b[0m_predicate\u001b[0m\u001b[1;33m\u001b[0m\u001b[1;33m\u001b[0m\u001b[0m\n",
      "\u001b[1;32m~\\AppData\\Roaming\\Python\\Python38\\site-packages\\selenium\\webdriver\\remote\\webdriver.py\u001b[0m in \u001b[0;36mfind_element\u001b[1;34m(self, by, value)\u001b[0m\n\u001b[0;32m    854\u001b[0m             \u001b[0mvalue\u001b[0m \u001b[1;33m=\u001b[0m \u001b[1;34m'[name=\"%s\"]'\u001b[0m \u001b[1;33m%\u001b[0m \u001b[0mvalue\u001b[0m\u001b[1;33m\u001b[0m\u001b[1;33m\u001b[0m\u001b[0m\n\u001b[0;32m    855\u001b[0m \u001b[1;33m\u001b[0m\u001b[0m\n\u001b[1;32m--> 856\u001b[1;33m         return self.execute(Command.FIND_ELEMENT, {\n\u001b[0m\u001b[0;32m    857\u001b[0m             \u001b[1;34m'using'\u001b[0m\u001b[1;33m:\u001b[0m \u001b[0mby\u001b[0m\u001b[1;33m,\u001b[0m\u001b[1;33m\u001b[0m\u001b[1;33m\u001b[0m\u001b[0m\n\u001b[0;32m    858\u001b[0m             'value': value})['value']\n",
      "\u001b[1;32m~\\AppData\\Roaming\\Python\\Python38\\site-packages\\selenium\\webdriver\\remote\\webdriver.py\u001b[0m in \u001b[0;36mexecute\u001b[1;34m(self, driver_command, params)\u001b[0m\n\u001b[0;32m    427\u001b[0m         \u001b[0mresponse\u001b[0m \u001b[1;33m=\u001b[0m \u001b[0mself\u001b[0m\u001b[1;33m.\u001b[0m\u001b[0mcommand_executor\u001b[0m\u001b[1;33m.\u001b[0m\u001b[0mexecute\u001b[0m\u001b[1;33m(\u001b[0m\u001b[0mdriver_command\u001b[0m\u001b[1;33m,\u001b[0m \u001b[0mparams\u001b[0m\u001b[1;33m)\u001b[0m\u001b[1;33m\u001b[0m\u001b[1;33m\u001b[0m\u001b[0m\n\u001b[0;32m    428\u001b[0m         \u001b[1;32mif\u001b[0m \u001b[0mresponse\u001b[0m\u001b[1;33m:\u001b[0m\u001b[1;33m\u001b[0m\u001b[1;33m\u001b[0m\u001b[0m\n\u001b[1;32m--> 429\u001b[1;33m             \u001b[0mself\u001b[0m\u001b[1;33m.\u001b[0m\u001b[0merror_handler\u001b[0m\u001b[1;33m.\u001b[0m\u001b[0mcheck_response\u001b[0m\u001b[1;33m(\u001b[0m\u001b[0mresponse\u001b[0m\u001b[1;33m)\u001b[0m\u001b[1;33m\u001b[0m\u001b[1;33m\u001b[0m\u001b[0m\n\u001b[0m\u001b[0;32m    430\u001b[0m             response['value'] = self._unwrap_value(\n\u001b[0;32m    431\u001b[0m                 response.get('value', None))\n",
      "\u001b[1;32m~\\AppData\\Roaming\\Python\\Python38\\site-packages\\selenium\\webdriver\\remote\\errorhandler.py\u001b[0m in \u001b[0;36mcheck_response\u001b[1;34m(self, response)\u001b[0m\n\u001b[0;32m    241\u001b[0m                 \u001b[0malert_text\u001b[0m \u001b[1;33m=\u001b[0m \u001b[0mvalue\u001b[0m\u001b[1;33m[\u001b[0m\u001b[1;34m'alert'\u001b[0m\u001b[1;33m]\u001b[0m\u001b[1;33m.\u001b[0m\u001b[0mget\u001b[0m\u001b[1;33m(\u001b[0m\u001b[1;34m'text'\u001b[0m\u001b[1;33m)\u001b[0m\u001b[1;33m\u001b[0m\u001b[1;33m\u001b[0m\u001b[0m\n\u001b[0;32m    242\u001b[0m             \u001b[1;32mraise\u001b[0m \u001b[0mexception_class\u001b[0m\u001b[1;33m(\u001b[0m\u001b[0mmessage\u001b[0m\u001b[1;33m,\u001b[0m \u001b[0mscreen\u001b[0m\u001b[1;33m,\u001b[0m \u001b[0mstacktrace\u001b[0m\u001b[1;33m,\u001b[0m \u001b[0malert_text\u001b[0m\u001b[1;33m)\u001b[0m  \u001b[1;31m# type: ignore[call-arg]  # mypy is not smart enough here\u001b[0m\u001b[1;33m\u001b[0m\u001b[1;33m\u001b[0m\u001b[0m\n\u001b[1;32m--> 243\u001b[1;33m         \u001b[1;32mraise\u001b[0m \u001b[0mexception_class\u001b[0m\u001b[1;33m(\u001b[0m\u001b[0mmessage\u001b[0m\u001b[1;33m,\u001b[0m \u001b[0mscreen\u001b[0m\u001b[1;33m,\u001b[0m \u001b[0mstacktrace\u001b[0m\u001b[1;33m)\u001b[0m\u001b[1;33m\u001b[0m\u001b[1;33m\u001b[0m\u001b[0m\n\u001b[0m",
      "\u001b[1;31mNoSuchWindowException\u001b[0m: Message: no such window: target window already closed\nfrom unknown error: web view not found\n  (Session info: chrome=106.0.5249.119)\nStacktrace:\nBacktrace:\n\tOrdinal0 [0x005A1ED3+2236115]\n\tOrdinal0 [0x005392F1+1807089]\n\tOrdinal0 [0x004466FD+812797]\n\tOrdinal0 [0x0042DFFA+712698]\n\tOrdinal0 [0x0049506B+1134699]\n\tOrdinal0 [0x004A514A+1200458]\n\tOrdinal0 [0x004918A6+1120422]\n\tOrdinal0 [0x0046A73D+960317]\n\tOrdinal0 [0x0046B71F+964383]\n\tGetHandleVerifier [0x0084E7E2+2743074]\n\tGetHandleVerifier [0x008408D4+2685972]\n\tGetHandleVerifier [0x00632BAA+532202]\n\tGetHandleVerifier [0x00631990+527568]\n\tOrdinal0 [0x0054080C+1837068]\n\tOrdinal0 [0x00544CD8+1854680]\n\tOrdinal0 [0x00544DC5+1854917]\n\tOrdinal0 [0x0054ED64+1895780]\n\tBaseThreadInitThunk [0x75606739+25]\n\tRtlGetFullPathName_UEx [0x77788FD2+1218]\n\tRtlGetFullPathName_UEx [0x77788F9D+1165]\n"
     ]
    }
   ],
   "source": [
    "chrome_options = webdriver.ChromeOptions()\n",
    "chrome_options.add_argument(\"--incognito\")\n",
    "driver = webdriver.Chrome(chrome_options=chrome_options)\n",
    "driver.get('https://techzone.ibm.com/my/reservations')\n",
    "username = driver.find_element(by='id',value='username')\n",
    "username.send_keys(\"avishwakarma@veracitiz.com\")\n",
    "nextButton = driver.find_element(by='id',value='continue-button')\n",
    "nextButton.click()\n",
    "password = WebDriverWait(driver, 10).until(EC.presence_of_element_located((By.ID, 'password')))\n",
    "password.send_keys(\"Ashish123\")\n",
    "signButton = driver.find_element(by='id',value='signinbutton')\n",
    "signButton.click()\n",
    "time.sleep(1)\n",
    "xpaths=\"//a[@data-autoid='dds--card' and @data-href='/my/reservations/ibmcloud-2/6322a93a2a60c100188ab972']//div[@class='bx--card__container']//div[@class='bx--card__wrapper']//div[@class='bx--card__menu']//button[@type='button']\"\n",
    "option=WebDriverWait(driver, 100).until(EC.presence_of_element_located((By.XPATH,xpaths)))\n",
    "option.click()\n",
    "time.sleep(5)\n",
    "xpaths1=\"//button[@class='bx--overflow-menu-options__btn' and contains(@index, 3)]\"\n",
    "option1=WebDriverWait(driver, 20).until(EC.presence_of_element_located((By.XPATH,xpaths1)))\n",
    "option1.click()\n",
    "today = DT.date.today()\n",
    "week_next = today + DT.timedelta(days=25)\n",
    "setDate=week_next.strftime(\"%m/%d/%Y\")\n",
    "WebDriverWait(driver, 20).until(EC.presence_of_element_located((By.ID, 'extensionDate_date'))).click()\n",
    "WebDriverWait(driver, 20).until(EC.presence_of_element_located((By.ID, 'extensionDate_date'))).clear()\n",
    "dateField = WebDriverWait(driver, 20).until(EC.presence_of_element_located((By.ID, 'extensionDate_date')))\n",
    "dateField.send_keys(setDate)\n",
    "xpaths2=\"/html/body/div[4]/div/div[3]/button[2]\"\n",
    "submit=WebDriverWait(driver, 20).until(EC.presence_of_element_located((By.XPATH,xpaths2)))\n",
    "submit.click()\n",
    "time.sleep(10)\n",
    "driver.quit()"
   ]
  },
  {
   "cell_type": "code",
   "execution_count": 3,
   "id": "02c553a2",
   "metadata": {},
   "outputs": [],
   "source": [
    "xpaths=\"//a[@data-autoid='dds--card' and @data-href='/my/reservations/ibmcloud-2/67104576d1805630e6ea56c2c6dd8f7b']//div[@class='bx--card__container']//div[@class='bx--card__wrapper']//div[@class='bx--card__menu']//button[@type='button']\"\n",
    "option=WebDriverWait(driver, 100).until(EC.presence_of_element_located((By.XPATH,xpaths)))\n",
    "option.click()\n",
    "xpaths1=\"//button[@class='bx--overflow-menu-options__btn' and contains(@index, 3)]\"\n",
    "option1=WebDriverWait(driver, 20).until(EC.presence_of_element_located((By.XPATH,xpaths1)))\n",
    "option1.click()\n"
   ]
  },
  {
   "cell_type": "code",
   "execution_count": 7,
   "id": "ff9d91ae",
   "metadata": {},
   "outputs": [],
   "source": [
    "today = DT.date.today()\n",
    "week_next = today + DT.timedelta(days=11)\n",
    "setDate=week_next.strftime(\"%m/%d/%Y\")\n",
    "WebDriverWait(driver, 10).until(EC.presence_of_element_located((By.ID, 'extensionDate_date'))).click()\n",
    "WebDriverWait(driver, 10).until(EC.presence_of_element_located((By.ID, 'extensionDate_date'))).clear()\n",
    "dateField = WebDriverWait(driver, 10).until(EC.presence_of_element_located((By.ID, 'extensionDate_date')))\n",
    "dateField.send_keys(setDate)\n",
    "xpaths2=\"/html/body/div[4]/div/div[3]/button[2]\"\n",
    "submit=WebDriverWait(driver, 20).until(EC.presence_of_element_located((By.XPATH,xpaths2)))\n",
    "submit.click()"
   ]
  },
  {
   "cell_type": "code",
   "execution_count": 12,
   "id": "7d523dd5",
   "metadata": {},
   "outputs": [],
   "source": [
    "today = DT.date.today()\n",
    "week_next = today + DT.timedelta(days=25)"
   ]
  },
  {
   "cell_type": "code",
   "execution_count": 13,
   "id": "20098d28",
   "metadata": {},
   "outputs": [
    {
     "data": {
      "text/plain": [
       "datetime.date(2022, 11, 9)"
      ]
     },
     "execution_count": 13,
     "metadata": {},
     "output_type": "execute_result"
    }
   ],
   "source": [
    "week_next"
   ]
  },
  {
   "cell_type": "code",
   "execution_count": 14,
   "id": "2b5668c7",
   "metadata": {},
   "outputs": [],
   "source": [
    "setDate=week_next.strftime(\"%m/%d/%Y\")"
   ]
  },
  {
   "cell_type": "code",
   "execution_count": 15,
   "id": "5fdf4abd",
   "metadata": {},
   "outputs": [
    {
     "data": {
      "text/plain": [
       "'11/09/2022'"
      ]
     },
     "execution_count": 15,
     "metadata": {},
     "output_type": "execute_result"
    }
   ],
   "source": [
    "setDate"
   ]
  },
  {
   "cell_type": "code",
   "execution_count": null,
   "id": "f5d8c33d",
   "metadata": {},
   "outputs": [],
   "source": []
  }
 ],
 "metadata": {
  "kernelspec": {
   "display_name": "Python 3",
   "language": "python",
   "name": "python3"
  },
  "language_info": {
   "codemirror_mode": {
    "name": "ipython",
    "version": 3
   },
   "file_extension": ".py",
   "mimetype": "text/x-python",
   "name": "python",
   "nbconvert_exporter": "python",
   "pygments_lexer": "ipython3",
   "version": "3.8.8"
  }
 },
 "nbformat": 4,
 "nbformat_minor": 5
}
