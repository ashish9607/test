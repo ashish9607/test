{
 "cells": [
  {
   "cell_type": "code",
   "execution_count": 1,
   "id": "6f9a644c",
   "metadata": {},
   "outputs": [],
   "source": [
    "from selenium import webdriver\n",
    "from selenium.webdriver.common.by import By\n",
    "from selenium.webdriver.support.ui import WebDriverWait\n",
    "from selenium.webdriver.support import expected_conditions as EC\n",
    "import datetime as DT\n",
    "import time"
   ]
  },
  {
   "cell_type": "code",
   "execution_count": 2,
   "id": "580a9dbe",
   "metadata": {},
   "outputs": [],
   "source": [
    "chrome_options = webdriver.ChromeOptions()\n",
    "driver = webdriver.Chrome()"
   ]
  },
  {
   "cell_type": "code",
   "execution_count": null,
   "id": "40600ff6",
   "metadata": {},
   "outputs": [],
   "source": [
    "driver.get('https://techzone.ibm.com/my/reservations')\n",
    "username = driver.find_element(by='id',value='username')\n",
    "username.send_keys(\"rsurajiwale@veracitiz.com\")\n",
    "nextButton = driver.find_element(by='id',value='continue-button')\n",
    "nextButton.click()\n",
    "password = WebDriverWait(driver, 10).until(EC.presence_of_element_located((By.ID, 'password')))\n",
    "password.send_keys(\"Vera@123\")\n",
    "signButton = driver.find_element(by='id',value='signinbutton')\n",
    "signButton.click()"
   ]
  },
  {
   "cell_type": "code",
   "execution_count": null,
   "id": "c91977fb",
   "metadata": {},
   "outputs": [],
   "source": [
    "xpaths=\"//a[@data-autoid='dds--card' and @data-href='/my/reservations/ibmcloud-2/67104576d1805630e6ea56c2c6dd8f7b']//div[@class='bx--card__container']//div[@class='bx--card__wrapper']//div[@class='bx--card__menu']//button[@type='button']\"\n",
    "option=WebDriverWait(driver, 10).until(EC.presence_of_element_located((By.XPATH,xpaths)))\n",
    "option.click()"
   ]
  },
  {
   "cell_type": "code",
   "execution_count": null,
   "id": "49f2dcf8",
   "metadata": {},
   "outputs": [],
   "source": [
    "xpaths1=\"//button[@class='bx--overflow-menu-options__btn' and contains(@index, 4)]\"\n",
    "option1=WebDriverWait(driver, 20).until(EC.presence_of_element_located((By.XPATH,xpaths1)))\n",
    "option1.click()\n",
    "today = DT.date.today()\n"
   ]
  },
  {
   "cell_type": "code",
   "execution_count": null,
   "id": "97c339b6",
   "metadata": {},
   "outputs": [],
   "source": [
    "week_next = today + DT.timedelta(days=11)\n",
    "setDate=week_next.strftime(\"%m/%d/%Y\")\n",
    "WebDriverWait(driver, 5).until(EC.presence_of_element_located((By.ID, 'extensionDate_date'))).click()\n",
    "WebDriverWait(driver, 5).until(EC.presence_of_element_located((By.ID, 'extensionDate_date'))).clear()\n",
    "dateField = WebDriverWait(driver, 5).until(EC.presence_of_element_located((By.ID, 'extensionDate_date')))\n",
    "dateField.send_keys(setDate)\n",
    "xpaths2=\"/html/body/div[3]/div/div[2]/button[1]\"\n",
    "submit=WebDriverWait(driver, 20).until(EC.presence_of_element_located((By.XPATH,xpaths2)))\n",
    "submit.click()\n"
   ]
  },
  {
   "cell_type": "code",
   "execution_count": null,
   "id": "a0ca4064",
   "metadata": {},
   "outputs": [],
   "source": [
    "driver.quit()"
   ]
  },
  {
   "cell_type": "code",
   "execution_count": null,
   "id": "8876b74c",
   "metadata": {},
   "outputs": [],
   "source": []
  },
  {
   "cell_type": "code",
   "execution_count": null,
   "id": "54c22868",
   "metadata": {},
   "outputs": [],
   "source": []
  },
  {
   "cell_type": "code",
   "execution_count": 3,
   "id": "02c553a2",
   "metadata": {},
   "outputs": [],
   "source": [
    "xpaths=\"//a[@data-autoid='dds--card' and @data-href='/my/reservations/ibmcloud-2/67104576d1805630e6ea56c2c6dd8f7b']//div[@class='bx--card__container']//div[@class='bx--card__wrapper']//div[@class='bx--card__menu']//button[@type='button']\"\n",
    "option=WebDriverWait(driver, 5).until(EC.presence_of_element_located((By.XPATH,xpaths)))\n",
    "option.click()\n",
    "xpaths1=\"//button[@class='bx--overflow-menu-options__btn' and contains(@index, 3)]\"\n",
    "option1=WebDriverWait(driver, 5).until(EC.presence_of_element_located((By.XPATH,xpaths1)))\n",
    "option1.click()\n"
   ]
  },
  {
   "cell_type": "code",
   "execution_count": 7,
   "id": "ff9d91ae",
   "metadata": {},
   "outputs": [],
   "source": [
    "01/10/2024"
   ]
  },
  {
   "cell_type": "code",
   "execution_count": 8,
   "id": "7d523dd5",
   "metadata": {},
   "outputs": [],
   "source": []
  },
  {
   "cell_type": "code",
   "execution_count": null,
   "id": "20098d28",
   "metadata": {},
   "outputs": [],
   "source": []
  },
  {
   "cell_type": "code",
   "execution_count": null,
   "id": "2b5668c7",
   "metadata": {},
   "outputs": [],
   "source": []
  }
 ],
 "metadata": {
  "kernelspec": {
   "display_name": "Python 3",
   "language": "python",
   "name": "python3"
  },
  "language_info": {
   "codemirror_mode": {
    "name": "ipython",
    "version": 3
   },
   "file_extension": ".py",
   "mimetype": "text/x-python",
   "name": "python",
   "nbconvert_exporter": "python",
   "pygments_lexer": "ipython3",
   "version": "3.8.8"
  }
 },
 "nbformat": 4,
 "nbformat_minor": 5
}
