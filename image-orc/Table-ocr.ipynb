{
 "cells": [
  {
   "cell_type": "code",
   "execution_count": 1,
   "id": "744c0437",
   "metadata": {},
   "outputs": [],
   "source": [
    "from PIL import Image\n",
    "\n",
    "import pytesseract\n",
    "\n",
    "pytesseract.pytesseract.tesseract_cmd =r'D:\\Jupyter Notebooks\\All Notebooks\\tesseract-ocr.exe'\n",
    "pytesseract.pytesseract.tesseract_cmd=r'C:\\Program Files\\Tesseract-OCR\\tesseract.exe'"
   ]
  },
  {
   "cell_type": "code",
   "execution_count": 14,
   "id": "42419387",
   "metadata": {},
   "outputs": [
    {
     "data": {
      "text/plain": [
       "'Bromley\\nBromley\\nCallahan\\nCoghill\\nCornhill\\nFarnham\\nFarnham\\nFinchley\\nFuller\\nGillingham\\nGloucester\\nRayleigh\\nGrand Total\\n\\nUSA\\n\\n2011\\nSalesperson Country| Units Order Amt\\n\\n24,756.89\\n7,553.95\\n49,400.07\\n4,029.25\\n120,626.31\\n14,055.87\\n\\n89,663.20\\n95,850.36\\n71,168.14\\n40,826.37\\n31,433.16\\n59,827.19\\n609,190.76\\n\\n2012\\nOrder Amt\\n\\n40,396.64\\n3,654.00\\n43,263.95\\n4,657.11\\n46,505.90\\n5,892.65\\n73,360.59\\n55,787.97\\n73,524.18\\n17,181.58\\n19,691.89\\n41,903.64\\n425,820.10\\n\\n2015\\nUnits Order Amt\\n\\n9,894.51\\n1,101.20\\n18,059.50\\n\\n49,945.11\\n2,560.40\\n15,663.56\\n30,861.76\\n17,811.46\\n14,519.68\\n17,667.20\\n15,232.16\\n193,316.54\\n\\nUnits\\n533\\n92\\n1,160\\n120\\n1,810\\n231\\n1422\\n1488\\nB75\\n4g7\\n821\\n10,221\\n\\nTotal\\n\\nOrder Amt\\n75,048.04\\n12,309.15\\n110,725.52\\n£686.36\\n217 077.32\\n22,508.92\\n178,687.35\\n18? 500.09\\n162,503.78\\n72,527.63\\n68,792 25\\n116,962 99\\n1,228,327,40\\n\\n'"
      ]
     },
     "execution_count": 14,
     "metadata": {},
     "output_type": "execute_result"
    }
   ],
   "source": [
    "txt=pytesseract.image_to_string(Image.open('Page_1.jpg'),lang = 'eng')\n",
    "txt"
   ]
  },
  {
   "cell_type": "code",
   "execution_count": 15,
   "id": "a7f923be",
   "metadata": {},
   "outputs": [],
   "source": [
    "txt=pytesseract.image_to_data(Image.open('Page_1.jpg'),lang = 'eng')"
   ]
  },
  {
   "cell_type": "code",
   "execution_count": 16,
   "id": "5d807485",
   "metadata": {},
   "outputs": [
    {
     "name": "stdout",
     "output_type": "stream",
     "text": [
      "level\tpage_num\tblock_num\tpar_num\tline_num\tword_num\tleft\ttop\twidth\theight\tconf\ttext\n",
      "1\t1\t0\t0\t0\t0\t0\t0\t2893\t4094\t-1\t\n",
      "2\t1\t1\t0\t0\t0\t34\t1620\t293\t1038\t-1\t\n",
      "3\t1\t1\t1\t0\t0\t34\t1620\t293\t1038\t-1\t\n",
      "4\t1\t1\t1\t1\t0\t39\t1620\t215\t49\t-1\t\n",
      "5\t1\t1\t1\t1\t1\t39\t1620\t215\t49\t88.967476\tBromley\n",
      "4\t1\t1\t1\t2\t0\t39\t1703\t214\t49\t-1\t\n",
      "5\t1\t1\t1\t2\t1\t39\t1703\t214\t49\t92.240311\tBromley\n",
      "4\t1\t1\t1\t3\t0\t34\t1786\t235\t40\t-1\t\n",
      "5\t1\t1\t1\t3\t1\t34\t1786\t235\t40\t95.469452\tCallahan\n",
      "4\t1\t1\t1\t4\t0\t34\t1870\t181\t49\t-1\t\n",
      "5\t1\t1\t1\t4\t1\t34\t1870\t181\t49\t88.425728\tCoghill\n",
      "4\t1\t1\t1\t5\t0\t34\t1953\t181\t49\t-1\t\n",
      "5\t1\t1\t1\t5\t1\t34\t1953\t181\t49\t0.000000\tCornhill\n",
      "4\t1\t1\t1\t6\t0\t39\t2036\t225\t39\t-1\t\n",
      "5\t1\t1\t1\t6\t1\t39\t2036\t225\t39\t94.831940\tFarnham\n",
      "4\t1\t1\t1\t7\t0\t39\t2119\t225\t40\t-1\t\n",
      "5\t1\t1\t1\t7\t1\t39\t2119\t225\t40\t95.695328\tFarnham\n",
      "4\t1\t1\t1\t8\t0\t39\t2203\t215\t49\t-1\t\n",
      "5\t1\t1\t1\t8\t1\t39\t2203\t215\t49\t95.619362\tFinchley\n",
      "4\t1\t1\t1\t9\t0\t39\t2286\t151\t39\t-1\t\n",
      "5\t1\t1\t1\t9\t1\t39\t2286\t151\t39\t96.643738\tFuller\n",
      "4\t1\t1\t1\t10\t0\t34\t2369\t293\t49\t-1\t\n",
      "5\t1\t1\t1\t10\t1\t34\t2369\t293\t49\t95.774742\tGillingham\n",
      "4\t1\t1\t1\t11\t0\t34\t2453\t289\t39\t-1\t\n",
      "5\t1\t1\t1\t11\t1\t34\t2453\t289\t39\t95.588165\tGloucester\n",
      "4\t1\t1\t1\t12\t0\t39\t2536\t220\t49\t-1\t\n",
      "5\t1\t1\t1\t12\t1\t39\t2536\t220\t49\t95.120865\tRayleigh\n",
      "4\t1\t1\t1\t13\t0\t34\t2619\t284\t39\t-1\t\n",
      "5\t1\t1\t1\t13\t1\t34\t2619\t147\t39\t96.367958\tGrand\n",
      "5\t1\t1\t1\t13\t2\t195\t2619\t123\t39\t96.085175\tTotal\n",
      "2\t1\t2\t0\t0\t0\t406\t1953\t98\t39\t-1\t\n",
      "3\t1\t2\t1\t0\t0\t406\t1953\t98\t39\t-1\t\n",
      "4\t1\t2\t1\t1\t0\t406\t1953\t98\t39\t-1\t\n",
      "5\t1\t2\t1\t1\t1\t406\t1953\t98\t39\t94.977905\tUSA\n",
      "2\t1\t3\t0\t0\t0\t34\t1453\t1121\t133\t-1\t\n",
      "3\t1\t3\t1\t0\t0\t34\t1453\t1121\t133\t-1\t\n",
      "4\t1\t3\t1\t1\t0\t837\t1453\t117\t40\t-1\t\n",
      "5\t1\t3\t1\t1\t1\t837\t1453\t117\t40\t83.788918\t2011\n",
      "4\t1\t3\t1\t2\t0\t34\t1537\t1121\t49\t-1\t\n",
      "5\t1\t3\t1\t2\t1\t34\t1537\t328\t49\t92.283539\tSalesperson\n",
      "5\t1\t3\t1\t2\t2\t401\t1537\t201\t49\t88.603683\tCountry|\n",
      "5\t1\t3\t1\t2\t3\t676\t1537\t141\t39\t94.050644\tUnits\n",
      "5\t1\t3\t1\t2\t4\t890\t1537\t147\t39\t91.365204\tOrder\n",
      "5\t1\t3\t1\t2\t5\t1052\t1537\t103\t39\t91.871819\tAmt\n",
      "2\t1\t4\t0\t0\t0\t876\t1620\t259\t465\t-1\t\n",
      "3\t1\t4\t1\t0\t0\t876\t1620\t259\t465\t-1\t\n",
      "4\t1\t4\t1\t1\t0\t900\t1620\t235\t49\t-1\t\n",
      "5\t1\t4\t1\t1\t1\t900\t1620\t235\t49\t85.470345\t24,756.89\n",
      "4\t1\t4\t1\t2\t0\t930\t1703\t205\t49\t-1\t\n",
      "5\t1\t4\t1\t2\t1\t930\t1703\t205\t49\t94.650528\t7,553.95\n",
      "4\t1\t4\t1\t3\t0\t900\t1786\t235\t49\t-1\t\n",
      "5\t1\t4\t1\t3\t1\t900\t1786\t235\t49\t87.543427\t49,400.07\n",
      "4\t1\t4\t1\t4\t0\t930\t1870\t205\t49\t-1\t\n",
      "5\t1\t4\t1\t4\t1\t930\t1870\t205\t49\t92.300758\t4,029.25\n",
      "4\t1\t4\t1\t5\t0\t876\t1953\t259\t49\t-1\t\n",
      "5\t1\t4\t1\t5\t1\t876\t1953\t259\t49\t91.818687\t120,626.31\n",
      "4\t1\t4\t1\t6\t0\t905\t2036\t230\t49\t-1\t\n",
      "5\t1\t4\t1\t6\t1\t905\t2036\t230\t49\t95.557518\t14,055.87\n",
      "2\t1\t5\t0\t0\t0\t871\t2119\t264\t544\t-1\t\n",
      "3\t1\t5\t1\t0\t0\t871\t2119\t264\t544\t-1\t\n",
      "4\t1\t5\t1\t1\t0\t900\t2119\t235\t49\t-1\t\n",
      "5\t1\t5\t1\t1\t1\t900\t2119\t235\t49\t61.595722\t89,663.20\n",
      "4\t1\t5\t1\t2\t0\t900\t2203\t235\t49\t-1\t\n",
      "5\t1\t5\t1\t2\t1\t900\t2203\t235\t49\t93.481544\t95,850.36\n",
      "4\t1\t5\t1\t3\t0\t900\t2286\t235\t49\t-1\t\n",
      "5\t1\t5\t1\t3\t1\t900\t2286\t235\t49\t92.668709\t71,168.14\n",
      "4\t1\t5\t1\t4\t0\t900\t2369\t235\t49\t-1\t\n",
      "5\t1\t5\t1\t4\t1\t900\t2369\t235\t49\t86.527382\t40,826.37\n",
      "4\t1\t5\t1\t5\t0\t900\t2453\t235\t48\t-1\t\n",
      "5\t1\t5\t1\t5\t1\t900\t2453\t235\t48\t93.362259\t31,433.16\n",
      "4\t1\t5\t1\t6\t0\t900\t2536\t235\t49\t-1\t\n",
      "5\t1\t5\t1\t6\t1\t900\t2536\t235\t49\t88.319397\t59,827.19\n",
      "4\t1\t5\t1\t7\t0\t871\t2619\t264\t44\t-1\t\n",
      "5\t1\t5\t1\t7\t1\t871\t2619\t264\t44\t96.263771\t609,190.76\n",
      "2\t1\t6\t0\t0\t0\t1380\t1453\t318\t123\t-1\t\n",
      "3\t1\t6\t1\t0\t0\t1380\t1453\t318\t123\t-1\t\n",
      "4\t1\t6\t1\t1\t0\t1380\t1453\t117\t40\t-1\t\n",
      "5\t1\t6\t1\t1\t1\t1380\t1453\t117\t40\t92.697235\t2012\n",
      "4\t1\t6\t1\t2\t0\t1434\t1537\t264\t39\t-1\t\n",
      "5\t1\t6\t1\t2\t1\t1434\t1537\t147\t39\t93.602440\tOrder\n",
      "5\t1\t6\t1\t2\t2\t1595\t1537\t103\t39\t94.075920\tAmt\n",
      "2\t1\t7\t0\t0\t0\t1414\t1620\t265\t1043\t-1\t\n",
      "3\t1\t7\t1\t0\t0\t1414\t1620\t265\t1043\t-1\t\n",
      "4\t1\t7\t1\t1\t0\t1444\t1620\t235\t49\t-1\t\n",
      "5\t1\t7\t1\t1\t1\t1444\t1620\t235\t49\t89.739365\t40,396.64\n",
      "4\t1\t7\t1\t2\t0\t1473\t1703\t206\t49\t-1\t\n",
      "5\t1\t7\t1\t2\t1\t1473\t1703\t206\t49\t86.571548\t3,654.00\n",
      "4\t1\t7\t1\t3\t0\t1444\t1786\t235\t49\t-1\t\n",
      "5\t1\t7\t1\t3\t1\t1444\t1786\t235\t49\t78.067947\t43,263.95\n",
      "4\t1\t7\t1\t4\t0\t1473\t1870\t206\t49\t-1\t\n",
      "5\t1\t7\t1\t4\t1\t1473\t1870\t206\t49\t89.138687\t4,657.11\n",
      "4\t1\t7\t1\t5\t0\t1444\t1953\t235\t49\t-1\t\n",
      "5\t1\t7\t1\t5\t1\t1444\t1953\t235\t49\t92.936142\t46,505.90\n",
      "4\t1\t7\t1\t6\t0\t1473\t2036\t206\t49\t-1\t\n",
      "5\t1\t7\t1\t6\t1\t1473\t2036\t206\t49\t80.850418\t5,892.65\n",
      "4\t1\t7\t1\t7\t0\t1444\t2119\t235\t49\t-1\t\n",
      "5\t1\t7\t1\t7\t1\t1444\t2119\t235\t49\t93.340515\t73,360.59\n",
      "4\t1\t7\t1\t8\t0\t1444\t2203\t235\t49\t-1\t\n",
      "5\t1\t7\t1\t8\t1\t1444\t2203\t235\t49\t92.156052\t55,787.97\n",
      "4\t1\t7\t1\t9\t0\t1444\t2286\t235\t49\t-1\t\n",
      "5\t1\t7\t1\t9\t1\t1444\t2286\t235\t49\t95.844231\t73,524.18\n",
      "4\t1\t7\t1\t10\t0\t1448\t2369\t231\t49\t-1\t\n",
      "5\t1\t7\t1\t10\t1\t1448\t2369\t231\t49\t90.846252\t17,181.58\n",
      "4\t1\t7\t1\t11\t0\t1448\t2453\t231\t48\t-1\t\n",
      "5\t1\t7\t1\t11\t1\t1448\t2453\t231\t48\t95.009483\t19,691.89\n",
      "4\t1\t7\t1\t12\t0\t1444\t2536\t235\t49\t-1\t\n",
      "5\t1\t7\t1\t12\t1\t1444\t2536\t235\t49\t96.146599\t41,903.64\n",
      "4\t1\t7\t1\t13\t0\t1414\t2619\t265\t44\t-1\t\n",
      "5\t1\t7\t1\t13\t1\t1414\t2619\t265\t44\t94.904991\t425,820.10\n",
      "2\t1\t8\t0\t0\t0\t1767\t1453\t474\t123\t-1\t\n",
      "3\t1\t8\t1\t0\t0\t1767\t1453\t474\t123\t-1\t\n",
      "4\t1\t8\t1\t1\t0\t1923\t1453\t118\t40\t-1\t\n",
      "5\t1\t8\t1\t1\t1\t1923\t1453\t118\t40\t80.489990\t2015\n",
      "4\t1\t8\t1\t2\t0\t1767\t1537\t474\t39\t-1\t\n",
      "5\t1\t8\t1\t2\t1\t1767\t1537\t137\t39\t85.813026\tUnits\n",
      "5\t1\t8\t1\t2\t2\t1977\t1537\t147\t39\t85.813026\tOrder\n",
      "5\t1\t8\t1\t2\t3\t2139\t1537\t102\t39\t94.113365\tAmt\n",
      "2\t1\t9\t0\t0\t0\t1992\t1620\t230\t215\t-1\t\n",
      "3\t1\t9\t1\t0\t0\t1992\t1620\t230\t215\t-1\t\n",
      "4\t1\t9\t1\t1\t0\t2016\t1620\t206\t49\t-1\t\n",
      "5\t1\t9\t1\t1\t1\t2016\t1620\t206\t49\t62.191090\t9,894.51\n",
      "4\t1\t9\t1\t2\t0\t2021\t1703\t201\t49\t-1\t\n",
      "5\t1\t9\t1\t2\t1\t2021\t1703\t201\t49\t92.063393\t1,101.20\n",
      "4\t1\t9\t1\t3\t0\t1992\t1786\t230\t49\t-1\t\n",
      "5\t1\t9\t1\t3\t1\t1992\t1786\t230\t49\t91.992645\t18,059.50\n",
      "2\t1\t10\t0\t0\t0\t1962\t1953\t260\t710\t-1\t\n",
      "3\t1\t10\t1\t0\t0\t1962\t1953\t260\t710\t-1\t\n",
      "4\t1\t10\t1\t1\t0\t1987\t1953\t235\t49\t-1\t\n",
      "5\t1\t10\t1\t1\t1\t1987\t1953\t235\t49\t84.043854\t49,945.11\n",
      "4\t1\t10\t1\t2\t0\t2016\t2036\t206\t49\t-1\t\n",
      "5\t1\t10\t1\t2\t1\t2016\t2036\t206\t49\t86.600098\t2,560.40\n",
      "4\t1\t10\t1\t3\t0\t1992\t2119\t230\t49\t-1\t\n",
      "5\t1\t10\t1\t3\t1\t1992\t2119\t230\t49\t95.016335\t15,663.56\n",
      "4\t1\t10\t1\t4\t0\t1987\t2203\t235\t49\t-1\t\n",
      "5\t1\t10\t1\t4\t1\t1987\t2203\t235\t49\t93.982094\t30,861.76\n",
      "4\t1\t10\t1\t5\t0\t1992\t2286\t230\t49\t-1\t\n",
      "5\t1\t10\t1\t5\t1\t1992\t2286\t230\t49\t92.885956\t17,811.46\n",
      "4\t1\t10\t1\t6\t0\t1992\t2369\t230\t49\t-1\t\n",
      "5\t1\t10\t1\t6\t1\t1992\t2369\t230\t49\t92.055634\t14,519.68\n",
      "4\t1\t10\t1\t7\t0\t1992\t2453\t230\t48\t-1\t\n",
      "5\t1\t10\t1\t7\t1\t1992\t2453\t230\t48\t93.598396\t17,667.20\n",
      "4\t1\t10\t1\t8\t0\t1992\t2536\t230\t49\t-1\t\n",
      "5\t1\t10\t1\t8\t1\t1992\t2536\t230\t49\t90.229286\t15,232.16\n",
      "4\t1\t10\t1\t9\t0\t1962\t2619\t260\t44\t-1\t\n",
      "5\t1\t10\t1\t9\t1\t1962\t2619\t260\t44\t96.058266\t193,316.54\n",
      "2\t1\t11\t0\t0\t0\t2298\t1537\t178\t1126\t-1\t\n",
      "3\t1\t11\t1\t0\t0\t2298\t1537\t178\t1126\t-1\t\n",
      "4\t1\t11\t1\t1\t0\t2339\t1537\t137\t39\t-1\t\n",
      "5\t1\t11\t1\t1\t1\t2339\t1537\t137\t39\t90.515846\tUnits\n",
      "4\t1\t11\t1\t2\t0\t2369\t1620\t88\t39\t-1\t\n",
      "5\t1\t11\t1\t2\t1\t2369\t1620\t88\t39\t76.795631\t533\n",
      "4\t1\t11\t1\t3\t0\t2398\t1703\t59\t39\t-1\t\n",
      "5\t1\t11\t1\t3\t1\t2398\t1703\t59\t39\t61.238960\t92\n",
      "4\t1\t11\t1\t4\t0\t2330\t1786\t127\t49\t-1\t\n",
      "5\t1\t11\t1\t4\t1\t2330\t1786\t127\t49\t92.475052\t1,160\n",
      "4\t1\t11\t1\t5\t0\t2374\t1870\t83\t39\t-1\t\n",
      "5\t1\t11\t1\t5\t1\t2374\t1870\t83\t39\t70.932846\t120\n",
      "4\t1\t11\t1\t6\t0\t2330\t1953\t127\t49\t-1\t\n",
      "5\t1\t11\t1\t6\t1\t2330\t1953\t127\t49\t67.066116\t1,810\n",
      "4\t1\t11\t1\t7\t0\t2369\t2036\t88\t39\t-1\t\n",
      "5\t1\t11\t1\t7\t1\t2369\t2036\t88\t39\t55.887737\t231\n",
      "4\t1\t11\t1\t8\t0\t2330\t2119\t127\t49\t-1\t\n",
      "5\t1\t11\t1\t8\t1\t2330\t2119\t127\t49\t71.257637\t1422\n",
      "4\t1\t11\t1\t9\t0\t2330\t2203\t127\t49\t-1\t\n",
      "5\t1\t11\t1\t9\t1\t2330\t2203\t127\t49\t82.122589\t1488\n",
      "4\t1\t11\t1\t10\t0\t2369\t2369\t88\t39\t-1\t\n",
      "5\t1\t11\t1\t10\t1\t2369\t2369\t88\t39\t79.062843\tB75\n",
      "4\t1\t11\t1\t11\t0\t2368\t2453\t89\t39\t-1\t\n",
      "5\t1\t11\t1\t11\t1\t2368\t2453\t89\t39\t6.559723\t4g7\n",
      "4\t1\t11\t1\t12\t0\t2369\t2536\t88\t39\t-1\t\n",
      "5\t1\t11\t1\t12\t1\t2369\t2536\t88\t39\t79.200180\t821\n",
      "4\t1\t11\t1\t13\t0\t2298\t2619\t159\t44\t-1\t\n",
      "5\t1\t11\t1\t13\t1\t2298\t2619\t159\t44\t95.494392\t10,221\n",
      "2\t1\t12\t0\t0\t0\t2496\t1453\t132\t40\t-1\t\n",
      "3\t1\t12\t1\t0\t0\t2496\t1453\t132\t40\t-1\t\n",
      "4\t1\t12\t1\t1\t0\t2496\t1453\t132\t40\t-1\t\n",
      "5\t1\t12\t1\t1\t1\t2496\t1453\t132\t40\t96.368942\tTotal\n",
      "2\t1\t13\t0\t0\t0\t2538\t1537\t325\t1126\t-1\t\n",
      "3\t1\t13\t1\t0\t0\t2538\t1537\t325\t1126\t-1\t\n",
      "4\t1\t13\t1\t1\t0\t2599\t1537\t264\t39\t-1\t\n",
      "5\t1\t13\t1\t1\t1\t2599\t1537\t147\t39\t95.381302\tOrder\n",
      "5\t1\t13\t1\t1\t2\t2760\t1537\t103\t39\t95.243752\tAmt\n",
      "4\t1\t13\t1\t2\t0\t2609\t1620\t235\t49\t-1\t\n",
      "5\t1\t13\t1\t2\t1\t2609\t1620\t235\t49\t60.091251\t75,048.04\n",
      "4\t1\t13\t1\t3\t0\t2613\t1703\t231\t49\t-1\t\n",
      "5\t1\t13\t1\t3\t1\t2613\t1703\t231\t49\t93.925842\t12,309.15\n",
      "4\t1\t13\t1\t4\t0\t2584\t1786\t260\t49\t-1\t\n",
      "5\t1\t13\t1\t4\t1\t2584\t1786\t260\t49\t74.126289\t110,725.52\n",
      "4\t1\t13\t1\t5\t0\t2638\t1870\t206\t49\t-1\t\n",
      "5\t1\t13\t1\t5\t1\t2638\t1870\t206\t49\t38.853287\t£686.36\n",
      "4\t1\t13\t1\t6\t0\t2579\t1953\t265\t49\t-1\t\n",
      "5\t1\t13\t1\t6\t1\t2579\t1953\t81\t39\t71.761032\t217\n",
      "5\t1\t13\t1\t6\t2\t2685\t1947\t159\t60\t71.761032\t077.32\n",
      "4\t1\t13\t1\t7\t0\t2609\t2036\t235\t49\t-1\t\n",
      "5\t1\t13\t1\t7\t1\t2609\t2036\t235\t49\t88.683975\t22,508.92\n",
      "4\t1\t13\t1\t8\t0\t2584\t2119\t260\t49\t-1\t\n",
      "5\t1\t13\t1\t8\t1\t2584\t2119\t260\t49\t82.529877\t178,687.35\n",
      "4\t1\t13\t1\t9\t0\t2584\t2203\t260\t49\t-1\t\n",
      "5\t1\t13\t1\t9\t1\t2584\t2203\t76\t39\t70.741623\t18?\n",
      "5\t1\t13\t1\t9\t2\t2685\t2197\t160\t60\t77.728516\t500.09\n",
      "4\t1\t13\t1\t10\t0\t2584\t2286\t260\t49\t-1\t\n",
      "5\t1\t13\t1\t10\t1\t2584\t2286\t260\t49\t84.191521\t162,503.78\n",
      "4\t1\t13\t1\t11\t0\t2609\t2369\t235\t49\t-1\t\n",
      "5\t1\t13\t1\t11\t1\t2609\t2369\t235\t49\t78.267906\t72,527.63\n",
      "4\t1\t13\t1\t12\t0\t2609\t2453\t235\t48\t-1\t\n",
      "5\t1\t13\t1\t12\t1\t2609\t2453\t235\t48\t76.103348\t68,792\n",
      "5\t1\t13\t1\t12\t2\t2790\t2447\t55\t60\t81.651581\t25\n",
      "4\t1\t13\t1\t13\t0\t2584\t2536\t260\t49\t-1\t\n",
      "5\t1\t13\t1\t13\t1\t2584\t2536\t260\t49\t48.757484\t116,962\n",
      "5\t1\t13\t1\t13\t2\t2790\t2530\t55\t60\t48.757484\t99\n",
      "4\t1\t13\t1\t14\t0\t2538\t2619\t306\t44\t-1\t\n",
      "5\t1\t13\t1\t14\t1\t2538\t2619\t306\t44\t48.206238\t1,228,327,40\n",
      "2\t1\t14\t0\t0\t0\t617\t1587\t2265\t1012\t-1\t\n",
      "3\t1\t14\t1\t0\t0\t617\t1587\t2265\t1012\t-1\t\n",
      "4\t1\t14\t1\t1\t0\t617\t1587\t2265\t1012\t-1\t\n",
      "5\t1\t14\t1\t1\t1\t617\t1587\t2265\t1012\t95.000000\t \n",
      "\n"
     ]
    }
   ],
   "source": [
    "print(txt)"
   ]
  },
  {
   "cell_type": "code",
   "execution_count": 17,
   "id": "b682d41e",
   "metadata": {},
   "outputs": [],
   "source": [
    "with open('data.txt','w') as f:\n",
    "    f.write(txt)"
   ]
  },
  {
   "cell_type": "code",
   "execution_count": 18,
   "id": "3052c17f",
   "metadata": {},
   "outputs": [],
   "source": [
    "d = pd.read_csv(\"data.txt\", sep=\"\\t\")"
   ]
  },
  {
   "cell_type": "code",
   "execution_count": 21,
   "id": "4a443957",
   "metadata": {},
   "outputs": [],
   "source": [
    "d=d.sort_values(by='top')"
   ]
  },
  {
   "cell_type": "code",
   "execution_count": 29,
   "id": "27cd273b",
   "metadata": {},
   "outputs": [
    {
     "data": {
      "text/plain": [
       "(16, 12)"
      ]
     },
     "execution_count": 29,
     "metadata": {},
     "output_type": "execute_result"
    }
   ],
   "source": [
    "d[d['top']==1453]"
   ]
  },
  {
   "cell_type": "code",
   "execution_count": 28,
   "id": "5a611541",
   "metadata": {},
   "outputs": [
    {
     "data": {
      "text/plain": [
       "(22, 12)"
      ]
     },
     "execution_count": 28,
     "metadata": {},
     "output_type": "execute_result"
    }
   ],
   "source": [
    "d[d['top']==1537].shape"
   ]
  },
  {
   "cell_type": "code",
   "execution_count": 30,
   "id": "0b2da853",
   "metadata": {},
   "outputs": [],
   "source": [
    "mydata=[]\n",
    "for i in d['top'].unique().tolist():\n",
    "    txt=d[d['top']==i].sort_values(by='left')['text'].values.tolist()\n",
    "    mydata.append(txt)"
   ]
  },
  {
   "cell_type": "code",
   "execution_count": 32,
   "id": "a8518a20",
   "metadata": {},
   "outputs": [
    {
     "name": "stdout",
     "output_type": "stream",
     "text": [
      "[[nan], [nan, nan, '2011', nan, nan, nan, nan, '2012', nan, nan, nan, '2015', nan, nan, nan, 'Total'], ['Salesperson', nan, 'Country|', 'Units', 'Order', 'Amt', 'Order', nan, 'Amt', nan, 'Units', 'Order', 'Amt', nan, nan, 'Units', nan, nan, nan, 'Order', nan, 'Amt'], [nan, nan, nan, ' '], [nan, nan, nan, 'Bromley', nan, nan, '24,756.89', nan, nan, nan, '40,396.64', nan, nan, nan, '9,894.51', nan, nan, '533', nan, '75,048.04'], ['Bromley', nan, nan, '7,553.95', '3,654.00', nan, nan, '1,101.20', '92', nan, '12,309.15', nan], ['Callahan', nan, '49,400.07', nan, '43,263.95', nan, '18,059.50', nan, nan, '1,160', nan, '110,725.52'], ['Coghill', nan, '4,029.25', nan, '4,657.11', nan, nan, '120', nan, '�686.36'], ['077.32'], [nan, 'Cornhill', nan, nan, nan, 'USA', '120,626.31', nan, nan, '46,505.90', nan, nan, nan, '49,945.11', '1,810', nan, nan, '217'], ['Farnham', nan, '14,055.87', nan, nan, '5,892.65', '2,560.40', nan, '231', nan, '22,508.92', nan], ['Farnham', nan, nan, nan, '89,663.20', nan, '73,360.59', nan, '15,663.56', nan, '1422', nan, nan, '178,687.35'], ['500.09'], [nan, 'Finchley', '95,850.36', nan, '55,787.97', nan, '30,861.76', nan, nan, '1488', '18?', nan], ['Fuller', nan, '71,168.14', nan, nan, '73,524.18', nan, '17,811.46', nan, '162,503.78'], [nan, 'Gillingham', '40,826.37', nan, nan, '17,181.58', '14,519.68', nan, 'B75', nan, nan, '72,527.63'], ['25'], ['Gloucester', nan, nan, '31,433.16', '19,691.89', nan, nan, '17,667.20', nan, '4g7', nan, '68,792'], ['99'], [nan, 'Rayleigh', '59,827.19', nan, '41,903.64', nan, nan, '15,232.16', nan, '821', nan, '116,962'], [nan, 'Grand', 'Total', '609,190.76', nan, '425,820.10', nan, '193,316.54', nan, '10,221', nan, nan, '1,228,327,40']]\n"
     ]
    }
   ],
   "source": [
    "print(mydata)"
   ]
  },
  {
   "cell_type": "code",
   "execution_count": 35,
   "id": "774a36ae",
   "metadata": {},
   "outputs": [
    {
     "name": "stdout",
     "output_type": "stream",
     "text": [
      "[nan, nan, nan, 'Bromley', nan, nan, '24,756.89', nan, nan, nan, '40,396.64', nan, nan, nan, '9,894.51', nan, nan, '533', nan, '75,048.04']\n"
     ]
    }
   ],
   "source": [
    "print(mydata[4])"
   ]
  },
  {
   "cell_type": "code",
   "execution_count": 36,
   "id": "3c934f08",
   "metadata": {},
   "outputs": [
    {
     "name": "stdout",
     "output_type": "stream",
     "text": [
      "['Bromley', nan, nan, '7,553.95', '3,654.00', nan, nan, '1,101.20', '92', nan, '12,309.15', nan]\n"
     ]
    }
   ],
   "source": [
    "print(mydata[5])"
   ]
  },
  {
   "cell_type": "code",
   "execution_count": null,
   "id": "00a0fad6",
   "metadata": {},
   "outputs": [],
   "source": []
  },
  {
   "cell_type": "code",
   "execution_count": null,
   "id": "1895141b",
   "metadata": {},
   "outputs": [],
   "source": []
  },
  {
   "cell_type": "code",
   "execution_count": 54,
   "id": "885b2355",
   "metadata": {},
   "outputs": [
    {
     "data": {
      "image/png": "[encoded data removed]",
      "text/plain": [
       "<Figure size 432x288 with 1 Axes>"
      ]
     },
     "metadata": {
      "needs_background": "light"
     },
     "output_type": "display_data"
    },
    {
     "data": {
      "image/png": "[encoded data removed]",
      "text/plain": [
       "<Figure size 432x288 with 1 Axes>"
      ]
     },
     "metadata": {
      "needs_background": "light"
     },
     "output_type": "display_data"
    },
    {
     "data": {
      "image/png": "[encoded data removed]",
      "text/plain": [
       "<Figure size 432x288 with 1 Axes>"
      ]
     },
     "metadata": {
      "needs_background": "light"
     },
     "output_type": "display_data"
    },
    {
     "data": {
      "image/png": "[encoded data removed]",
      "text/plain": [
       "<Figure size 432x288 with 1 Axes>"
      ]
     },
     "metadata": {
      "needs_background": "light"
     },
     "output_type": "display_data"
    },
    {
     "data": {
      "image/png": "[encoded data removed]",
      "text/plain": [
       "<Figure size 432x288 with 1 Axes>"
      ]
     },
     "metadata": {
      "needs_background": "light"
     },
     "output_type": "display_data"
    }
   ],
   "source": [
    "\n",
    "import cv2\n",
    "import numpy as np\n",
    "import pandas as pd\n",
    "import matplotlib.pyplot as plt\n",
    "import csv\n",
    "\n",
    "try:\n",
    "    from PIL import Image\n",
    "except ImportError:\n",
    "    import Image\n",
    "import pytesseract\n",
    "\n",
    "#read your file\n",
    "file=r'Page_1.jpg'\n",
    "img = cv2.imread(file,0)\n",
    "img.shape\n",
    "\n",
    "#thresholding the image to a binary image\n",
    "thresh,img_bin = cv2.threshold(img,128,255,cv2.THRESH_BINARY | cv2.THRESH_OTSU)\n",
    "\n",
    "#inverting the image \n",
    "img_bin = 255-img_bin\n",
    "cv2.imwrite('cv_inverted.png',img_bin)\n",
    "#Plotting the image to see the output\n",
    "plotting = plt.imshow(img_bin,cmap='gray')\n",
    "plt.show()\n",
    "\n",
    "# countcol(width) of kernel as 100th of total width\n",
    "kernel_len = np.array(img).shape[1]//100\n",
    "# Defining a vertical kernel to detect all vertical lines of image \n",
    "ver_kernel = cv2.getStructuringElement(cv2.MORPH_RECT, (1, kernel_len))\n",
    "# Defining a horizontal kernel to detect all horizontal lines of image\n",
    "hor_kernel = cv2.getStructuringElement(cv2.MORPH_RECT, (kernel_len, 1))\n",
    "# A kernel of 2x2\n",
    "kernel = cv2.getStructuringElement(cv2.MORPH_RECT, (2, 2))\n",
    "\n",
    "#Use vertical kernel to detect and save the vertical lines in a jpg\n",
    "image_1 = cv2.erode(img_bin, ver_kernel, iterations=3)\n",
    "vertical_lines = cv2.dilate(image_1, ver_kernel, iterations=3)\n",
    "cv2.imwrite(\"vertical.jpg\",vertical_lines)\n",
    "#Plot the generated image\n",
    "plotting = plt.imshow(image_1,cmap='gray')\n",
    "plt.show()\n",
    "\n",
    "#Use horizontal kernel to detect and save the horizontal lines in a jpg\n",
    "image_2 = cv2.erode(img_bin, hor_kernel, iterations=3)\n",
    "horizontal_lines = cv2.dilate(image_2, hor_kernel, iterations=3)\n",
    "cv2.imwrite(\"horizontal.jpg\",horizontal_lines)\n",
    "#Plot the generated image\n",
    "plotting = plt.imshow(image_2,cmap='gray')\n",
    "plt.show()\n",
    "\n",
    "# Combine horizontal and vertical lines in a new third image, with both having same weight.\n",
    "img_vh = cv2.addWeighted(vertical_lines, 0.5, horizontal_lines, 0.5, 0.0)\n",
    "#Eroding and thesholding the image\n",
    "img_vh = cv2.erode(~img_vh, kernel, iterations=2)\n",
    "thresh, img_vh = cv2.threshold(img_vh,128,255, cv2.THRESH_BINARY | cv2.THRESH_OTSU)\n",
    "cv2.imwrite(\"img_vh.jpg\", img_vh)\n",
    "bitxor = cv2.bitwise_xor(img,img_vh)\n",
    "bitnot = cv2.bitwise_not(bitxor)\n",
    "#Plotting the generated image\n",
    "plotting = plt.imshow(bitnot,cmap='gray')\n",
    "plt.show()\n",
    "\n",
    "# Detect contours for following box detection\n",
    "contours, hierarchy = cv2.findContours(img_vh, cv2.RETR_TREE, cv2.CHAIN_APPROX_SIMPLE)\n",
    "\n",
    "def sort_contours(cnts, method=\"left-to-right\"):\n",
    "    # initialize the reverse flag and sort index\n",
    "    reverse = False\n",
    "    i = 0\n",
    "    # handle if we need to sort in reverse\n",
    "    if method == \"right-to-left\" or method == \"bottom-to-top\":\n",
    "        reverse = True\n",
    "    # handle if we are sorting against the y-coordinate rather than\n",
    "    # the x-coordinate of the bounding box\n",
    "    if method == \"top-to-bottom\" or method == \"bottom-to-top\":\n",
    "        i = 1\n",
    "    # construct the list of bounding boxes and sort them from top to\n",
    "    # bottom\n",
    "    boundingBoxes = [cv2.boundingRect(c) for c in cnts]\n",
    "    (cnts, boundingBoxes) = zip(*sorted(zip(cnts, boundingBoxes),\n",
    "    key=lambda b:b[1][i], reverse=reverse))\n",
    "    # return the list of sorted contours and bounding boxes\n",
    "    return (cnts, boundingBoxes)\n",
    "\n",
    "# Sort all the contours by top to bottom.\n",
    "contours, boundingBoxes = sort_contours(contours, method=\"top-to-bottom\")\n",
    "\n",
    "#Creating a list of heights for all detected boxes\n",
    "heights = [boundingBoxes[i][3] for i in range(len(boundingBoxes))]\n",
    "\n",
    "#Get mean of heights\n",
    "mean = np.mean(heights)\n",
    "\n",
    "#Create list box to store all boxes in  \n",
    "box = []\n",
    "# Get position (x,y), width and height for every contour and show the contour on image\n",
    "for c in contours:\n",
    "    x, y, w, h = cv2.boundingRect(c)\n",
    "    if (w<1000 and h<500):\n",
    "        image = cv2.rectangle(img,(x,y),(x+w,y+h),(0,255,0),2)\n",
    "        box.append([x,y,w,h])\n",
    "        \n",
    "plotting = plt.imshow(image,cmap='gray')\n",
    "plt.show()\n",
    "\n"
   ]
  },
  {
   "cell_type": "code",
   "execution_count": 55,
   "id": "22e33d72",
   "metadata": {},
   "outputs": [
    {
     "name": "stdout",
     "output_type": "stream",
     "text": [
      "[]\n",
      "[]\n"
     ]
    }
   ],
   "source": [
    "#Creating two lists to define row and column in which cell is located\n",
    "row=[]\n",
    "column=[]\n",
    "j=0\n",
    "\n",
    "#Sorting the boxes to their respective row and column\n",
    "for i in range(len(box)):    \n",
    "        \n",
    "    if(i==0):\n",
    "        column.append(box[i])\n",
    "        previous=box[i]    \n",
    "    \n",
    "    else:\n",
    "        if(box[i][1]<=previous[1]+mean/2):\n",
    "            column.append(box[i])\n",
    "            previous=box[i]            \n",
    "            \n",
    "            if(i==len(box)-1):\n",
    "                row.append(column)        \n",
    "            \n",
    "        else:\n",
    "            row.append(column)\n",
    "            column=[]\n",
    "            previous = box[i]\n",
    "            column.append(box[i])\n",
    "            \n",
    "print(column)\n",
    "print(row)\n",
    "\n"
   ]
  },
  {
   "cell_type": "code",
   "execution_count": 74,
   "id": "9f767af6",
   "metadata": {},
   "outputs": [
    {
     "name": "stdout",
     "output_type": "stream",
     "text": [
      "[]\n",
      "[]\n"
     ]
    },
    {
     "name": "stderr",
     "output_type": "stream",
     "text": [
      "Pages: 0\n"
     ]
    }
   ],
   "source": [
    "from PIL import Image, ImageOps\n",
    "import subprocess, sys, os, glob\n",
    "\n",
    "# minimum run of adjacent pixels to call something a line\n",
    "H_THRESH = 300\n",
    "V_THRESH = 300\n",
    "\n",
    "def get_hlines(pix, w, h):\n",
    "    \"\"\"Get start/end pixels of lines containing horizontal runs of at least THRESH black pix\"\"\"\n",
    "    hlines = []\n",
    "    for y in range(h):\n",
    "        x1, x2 = (None, None)\n",
    "        black = 0\n",
    "        run = 0\n",
    "        for x in range(w):\n",
    "            if pix[x,y] == (0,0,0):\n",
    "                black = black + 1\n",
    "                if not x1: x1 = x\n",
    "                x2 = x\n",
    "            else:\n",
    "                if black > run:\n",
    "                    run = black\n",
    "                black = 0\n",
    "        if run > H_THRESH:\n",
    "            hlines.append((x1,y,x2,y))\n",
    "    return hlines\n",
    "\n",
    "def get_vlines(pix, w, h):\n",
    "    \"\"\"Get start/end pixels of lines containing vertical runs of at least THRESH black pix\"\"\"\n",
    "    vlines = []\n",
    "    for x in range(w):\n",
    "        y1, y2 = (None,None)\n",
    "        black = 0\n",
    "        run = 0\n",
    "        for y in range(h):\n",
    "            if pix[x,y] == (0,0,0):\n",
    "                black = black + 1\n",
    "                if not y1: y1 = y\n",
    "                y2 = y\n",
    "            else:\n",
    "                if black > run:\n",
    "                    run = black\n",
    "                black = 0\n",
    "        if run > V_THRESH:\n",
    "            vlines.append((x,y1,x,y2))\n",
    "    return vlines\n",
    "\n",
    "def get_cols(vlines):\n",
    "    \"\"\"Get top-left and bottom-right coordinates for each column from a list of vertical lines\"\"\"\n",
    "    cols = []\n",
    "    for i in range(1, len(vlines)):\n",
    "        if vlines[i][0] - vlines[i-1][0] > 1:\n",
    "            cols.append((vlines[i-1][0],vlines[i-1][1],vlines[i][2],vlines[i][3]))\n",
    "    return cols\n",
    "\n",
    "def get_rows(hlines):\n",
    "    \"\"\"Get top-left and bottom-right coordinates for each row from a list of vertical lines\"\"\"\n",
    "    rows = []\n",
    "    for i in range(1, len(hlines)):\n",
    "        if hlines[i][1] - hlines[i-1][3] > 1:\n",
    "            rows.append((hlines[i-1][0],hlines[i-1][1],hlines[i][2],hlines[i][3]))\n",
    "    return rows          \n",
    "\n",
    "def get_cells(rows, cols):\n",
    "    \"\"\"Get top-left and bottom-right coordinates for each cell usings row and column coordinates\"\"\"\n",
    "    cells = {}\n",
    "    for i, row in enumerate(rows):\n",
    "        cells.setdefault(i, {})\n",
    "        for j, col in enumerate(cols):\n",
    "            x1 = col[0]\n",
    "            y1 = row[1]\n",
    "            x2 = col[2]\n",
    "            y2 = row[3]\n",
    "            cells[i][j] = (x1,y1,x2,y2)\n",
    "    return cells\n",
    "\n",
    "def ocr_cell(im, cells, x, y):\n",
    "    \"\"\"Return OCRed text from this cell\"\"\"\n",
    "    fbase = \"working/%d-%d\" % (x, y)\n",
    "    ftif = \"%s.tif\" % fbase\n",
    "    ftxt = \"%s.txt\" % fbase\n",
    "    cmd = \"tesseract %s %s\" % (ftif, fbase)\n",
    "    # extract cell from whole image, grayscale (1-color channel), monochrome\n",
    "    region = im.crop(cells[x][y])\n",
    "    region = ImageOps.grayscale(region)\n",
    "    region = region.point(lambda p: p > 200 and 255)\n",
    "    # determine background color (most used color)\n",
    "    histo = region.histogram()\n",
    "    if histo[0] > histo[255]: bgcolor = 0\n",
    "    else: bgcolor = 255\n",
    "    # trim borders by finding top-left and bottom-right bg pixels\n",
    "    pix = region.load()\n",
    "    x1,y1 = 0,0\n",
    "    x2,y2 = region.size\n",
    "    x2,y2 = x2-1,y2-1\n",
    "    while pix[x1,y1] != bgcolor:\n",
    "        x1 += 1\n",
    "        y1 += 1\n",
    "    while pix[x2,y2] != bgcolor:\n",
    "        x2 -= 1\n",
    "        y2 -= 1\n",
    "    # save as TIFF and extract text with Tesseract OCR\n",
    "    trimmed = region.crop((x1,y1,x2,y2))\n",
    "    trimmed.save(ftif, \"TIFF\")\n",
    "    subprocess.call([cmd], shell=True, stderr=subprocess.PIPE)\n",
    "    lines = [l.strip() for l in open(ftxt).readlines()]\n",
    "    return lines[0]\n",
    "\n",
    "def get_image_data(filename):\n",
    "    \"\"\"Extract textual data[rows][cols] from spreadsheet-like image file\"\"\"    \n",
    "    im = Image.open(filename)\n",
    "    pix = im.load()\n",
    "    width, height = im.size\n",
    "    hlines = get_hlines(pix, width, height)\n",
    "    sys.stderr.write(\"%s: hlines: %d\\n\" % (filename, len(hlines)))\n",
    "    vlines = get_vlines(pix, width, height)\n",
    "    sys.stderr.write(\"%s: vlines: %d\\n\" % (filename, len(vlines)))\n",
    "    rows = get_rows(hlines)\n",
    "    sys.stderr.write(\"%s: rows: %d\\n\" % (filename, len(rows)))\n",
    "    cols = get_cols(vlines)\n",
    "    sys.stderr.write(\"%s: cols: %d\\n\" % (filename, len(cols)))\n",
    "    cells = get_cells(rows, cols)\n",
    "    \n",
    "    data = []\n",
    "    for row in range(len(rows)):\n",
    "        data.append([ocr_cell(im,cells, row, col) for col in range(len(cols))]) \n",
    "    return data\n",
    "\n",
    "def split_pdf(filename):\n",
    "    \"\"\"Split PDF into PNG pages, return filenames\"\"\"\n",
    "    prefix = filename[:-4]\n",
    "    cmd = \"convert -density 600 %s working/%s-%%d.png\" % (filename, prefix)\n",
    "    subprocess.call([cmd], shell=True)\n",
    "    return [f for f in glob.glob(os.path.join('working', '%s*' % prefix))]\n",
    "\n",
    "def extract_pdf(filename):\n",
    "    \"\"\"Extract table data from pdf\"\"\"\n",
    "    pngfiles = split_pdf(filename)\n",
    "    print(pngfiles)\n",
    "    sys.stderr.write(\"Pages: %d\\n\" % len(pngfiles))\n",
    "    # extract table data from each page\n",
    "    data = []\n",
    "    for pngfile in pngfiles:\n",
    "        pngdata = get_image_data(pngfile)\n",
    "        for d in pngdata:\n",
    "            data.append(d)\n",
    "        # remove temp files for this page\n",
    "        os.system(\"rm working/*.tif\")\n",
    "        os.system(\"rm working/*.txt\")\n",
    "    # remove split pages\n",
    "    os.system(\"rm working/*\")   \n",
    "    return data\n",
    "\n",
    "if __name__ == '__main__':\n",
    "    \n",
    "    filename = \"1.pdf\"\n",
    "    data = extract_pdf(filename)\n",
    "    print(data)\n",
    "    for row in data:\n",
    "        print(\"\\t\".join(row)) "
   ]
  },
  {
   "cell_type": "code",
   "execution_count": 72,
   "id": "e106a839",
   "metadata": {},
   "outputs": [
    {
     "data": {
      "text/plain": [
       "[]"
      ]
     },
     "execution_count": 72,
     "metadata": {},
     "output_type": "execute_result"
    }
   ],
   "source": [
    "row"
   ]
  },
  {
   "cell_type": "code",
   "execution_count": 75,
   "id": "461dd117",
   "metadata": {},
   "outputs": [
    {
     "name": "stdout",
     "output_type": "stream",
     "text": [
      "{'credits': 10, 'used': 0, 'queued': 0}\n"
     ]
    },
    {
     "name": "stderr",
     "output_type": "stream",
     "text": [
      "C:\\ProgramData\\Anaconda3\\lib\\site-packages\\ExtractTable\\parsers.py:43: UserWarning: Check the status using the JobId after 10 seconds\n",
      "  warnings.warn(_msg_)\n"
     ]
    },
    {
     "name": "stdout",
     "output_type": "stream",
     "text": [
      "[Info]: Waiting to retrieve the output; JobId: 775e0800dd04b8f7583684f637ea3bb88b8bacbbb27bfc6a32ffe63250ded7c0\n"
     ]
    }
   ],
   "source": [
    "from ExtractTable import ExtractTable\n",
    "YOUR_API_KEY=\"LtgNVml9zVQeK18uCh1MKeElWBcYQZPjRVrP4EAP\"\n",
    "et_sess = ExtractTable(api_key=YOUR_API_KEY)        # Replace your VALID API Key here\n",
    "print(et_sess.check_usage())        # Checks the API Key validity as well as shows associated plan usage \n",
    "#table_data = et_sess.process_file(filepath=Location_of_Image_with_Tables, output_format=\"df\")\n",
    "\n",
    "# To process PDF, make use of pages (\"1\", \"1,3-4\", \"all\") params in the read_pdf function\n",
    "table_data = et_sess.process_file(filepath=\"1.pdf\", output_format=\"df\", pages=\"all\")"
   ]
  },
  {
   "cell_type": "code",
   "execution_count": 80,
   "id": "12bf05fc",
   "metadata": {},
   "outputs": [
    {
     "data": {
      "text/html": [
       "<div>\n",
       "<style scoped>\n",
       "    .dataframe tbody tr th:only-of-type {\n",
       "        vertical-align: middle;\n",
       "    }\n",
       "\n",
       "    .dataframe tbody tr th {\n",
       "        vertical-align: top;\n",
       "    }\n",
       "\n",
       "    .dataframe thead th {\n",
       "        text-align: right;\n",
       "    }\n",
       "</style>\n",
       "<table border=\"1\" class=\"dataframe\">\n",
       "  <thead>\n",
       "    <tr style=\"text-align: right;\">\n",
       "      <th></th>\n",
       "      <th>0</th>\n",
       "      <th>1</th>\n",
       "      <th>2</th>\n",
       "      <th>3</th>\n",
       "      <th>4</th>\n",
       "      <th>5</th>\n",
       "      <th>6</th>\n",
       "      <th>7</th>\n",
       "      <th>8</th>\n",
       "      <th>9</th>\n",
       "    </tr>\n",
       "  </thead>\n",
       "  <tbody>\n",
       "    <tr>\n",
       "      <th>0</th>\n",
       "      <td></td>\n",
       "      <td></td>\n",
       "      <td></td>\n",
       "      <td>2011</td>\n",
       "      <td></td>\n",
       "      <td>2012</td>\n",
       "      <td></td>\n",
       "      <td>2013</td>\n",
       "      <td></td>\n",
       "      <td>Total</td>\n",
       "    </tr>\n",
       "    <tr>\n",
       "      <th>1</th>\n",
       "      <td>Salesperson</td>\n",
       "      <td>Country</td>\n",
       "      <td>Units</td>\n",
       "      <td>Order Amt</td>\n",
       "      <td>Units</td>\n",
       "      <td>Order Amt</td>\n",
       "      <td>Units</td>\n",
       "      <td>Order Amt</td>\n",
       "      <td>Units</td>\n",
       "      <td>Order Amt</td>\n",
       "    </tr>\n",
       "    <tr>\n",
       "      <th>2</th>\n",
       "      <td>Bromley</td>\n",
       "      <td>UK</td>\n",
       "      <td>232</td>\n",
       "      <td>24,756.89</td>\n",
       "      <td>228</td>\n",
       "      <td>40,396.64</td>\n",
       "      <td>73</td>\n",
       "      <td>9,894.51</td>\n",
       "      <td>533</td>\n",
       "      <td>75,048.04</td>\n",
       "    </tr>\n",
       "    <tr>\n",
       "      <th>3</th>\n",
       "      <td>Bromley</td>\n",
       "      <td>USA</td>\n",
       "      <td>58</td>\n",
       "      <td>7,553.95</td>\n",
       "      <td>27</td>\n",
       "      <td>3,654.00</td>\n",
       "      <td>7</td>\n",
       "      <td>1,101.20</td>\n",
       "      <td>92</td>\n",
       "      <td>12,309.15</td>\n",
       "    </tr>\n",
       "    <tr>\n",
       "      <th>4</th>\n",
       "      <td>Callahan</td>\n",
       "      <td>USA</td>\n",
       "      <td>623</td>\n",
       "      <td>49,400.07</td>\n",
       "      <td>337</td>\n",
       "      <td>43,263.95</td>\n",
       "      <td>200</td>\n",
       "      <td>18,059.50</td>\n",
       "      <td>1,160</td>\n",
       "      <td>110,723.52</td>\n",
       "    </tr>\n",
       "    <tr>\n",
       "      <th>5</th>\n",
       "      <td>Coghill</td>\n",
       "      <td>UK</td>\n",
       "      <td>81</td>\n",
       "      <td>4,029.25</td>\n",
       "      <td>39</td>\n",
       "      <td>4,657.11</td>\n",
       "      <td></td>\n",
       "      <td></td>\n",
       "      <td>120</td>\n",
       "      <td>8,686.36</td>\n",
       "    </tr>\n",
       "    <tr>\n",
       "      <th>6</th>\n",
       "      <td>Coghill</td>\n",
       "      <td>USA</td>\n",
       "      <td>885</td>\n",
       "      <td>120,626.31</td>\n",
       "      <td>520</td>\n",
       "      <td>46,505.90</td>\n",
       "      <td>405</td>\n",
       "      <td>49,945.11</td>\n",
       "      <td>1,810</td>\n",
       "      <td>217,077.32</td>\n",
       "    </tr>\n",
       "    <tr>\n",
       "      <th>7</th>\n",
       "      <td>Farnham</td>\n",
       "      <td>UK</td>\n",
       "      <td>170</td>\n",
       "      <td>14,055.87</td>\n",
       "      <td>44</td>\n",
       "      <td>5,892.65</td>\n",
       "      <td>17</td>\n",
       "      <td>2,560.40</td>\n",
       "      <td>231</td>\n",
       "      <td>22,508.92</td>\n",
       "    </tr>\n",
       "    <tr>\n",
       "      <th>8</th>\n",
       "      <td>Farnham</td>\n",
       "      <td>USA</td>\n",
       "      <td>699</td>\n",
       "      <td>89,663.20</td>\n",
       "      <td>506</td>\n",
       "      <td>73,360.59</td>\n",
       "      <td>217</td>\n",
       "      <td>15,663.56</td>\n",
       "      <td>1,422</td>\n",
       "      <td>178,687.35</td>\n",
       "    </tr>\n",
       "    <tr>\n",
       "      <th>9</th>\n",
       "      <td>Finchley</td>\n",
       "      <td>USA</td>\n",
       "      <td>699</td>\n",
       "      <td>95,850.36</td>\n",
       "      <td>487</td>\n",
       "      <td>55,787.97</td>\n",
       "      <td>302</td>\n",
       "      <td>30,861.76</td>\n",
       "      <td>1,488</td>\n",
       "      <td>182,500.09</td>\n",
       "    </tr>\n",
       "    <tr>\n",
       "      <th>10</th>\n",
       "      <td>Fuller</td>\n",
       "      <td>USA</td>\n",
       "      <td>539</td>\n",
       "      <td>71,168.14</td>\n",
       "      <td>473</td>\n",
       "      <td>73,524.18</td>\n",
       "      <td>170</td>\n",
       "      <td>17,811.46</td>\n",
       "      <td>1,182</td>\n",
       "      <td>162,503.78</td>\n",
       "    </tr>\n",
       "    <tr>\n",
       "      <th>11</th>\n",
       "      <td>Gillingham</td>\n",
       "      <td>UK</td>\n",
       "      <td>397</td>\n",
       "      <td>40,826.37</td>\n",
       "      <td>276</td>\n",
       "      <td>17,181.58</td>\n",
       "      <td>202</td>\n",
       "      <td>14,519.68</td>\n",
       "      <td>875</td>\n",
       "      <td>72,527.63</td>\n",
       "    </tr>\n",
       "    <tr>\n",
       "      <th>12</th>\n",
       "      <td>Gloucester</td>\n",
       "      <td>UK</td>\n",
       "      <td>209</td>\n",
       "      <td>31,433.16</td>\n",
       "      <td>143</td>\n",
       "      <td>19,691.89</td>\n",
       "      <td>135</td>\n",
       "      <td>17,667.20</td>\n",
       "      <td>487</td>\n",
       "      <td>68,792.25</td>\n",
       "    </tr>\n",
       "    <tr>\n",
       "      <th>13</th>\n",
       "      <td>Rayleigh</td>\n",
       "      <td>UK</td>\n",
       "      <td>422</td>\n",
       "      <td>59,827.19</td>\n",
       "      <td>268</td>\n",
       "      <td>41,903.64</td>\n",
       "      <td>131</td>\n",
       "      <td>15,232.16</td>\n",
       "      <td>821</td>\n",
       "      <td>116,962.99</td>\n",
       "    </tr>\n",
       "    <tr>\n",
       "      <th>14</th>\n",
       "      <td>Grand Total</td>\n",
       "      <td></td>\n",
       "      <td>5,014</td>\n",
       "      <td>609,190.76</td>\n",
       "      <td>3,348</td>\n",
       "      <td>425,820.10</td>\n",
       "      <td>1,859</td>\n",
       "      <td>193,316.54</td>\n",
       "      <td>10,221</td>\n",
       "      <td>1,228,327.40</td>\n",
       "    </tr>\n",
       "  </tbody>\n",
       "</table>\n",
       "</div>"
      ],
      "text/plain": [
       "              0        1      2           3      4           5      6  \\\n",
       "0                                      2011               2012          \n",
       "1   Salesperson  Country  Units   Order Amt  Units   Order Amt  Units   \n",
       "2       Bromley       UK    232   24,756.89    228   40,396.64     73   \n",
       "3       Bromley      USA     58    7,553.95     27    3,654.00      7   \n",
       "4      Callahan      USA    623   49,400.07    337   43,263.95    200   \n",
       "5       Coghill       UK     81    4,029.25     39    4,657.11          \n",
       "6       Coghill      USA    885  120,626.31    520   46,505.90    405   \n",
       "7       Farnham       UK    170   14,055.87     44    5,892.65     17   \n",
       "8       Farnham      USA    699   89,663.20    506   73,360.59    217   \n",
       "9      Finchley      USA    699   95,850.36    487   55,787.97    302   \n",
       "10       Fuller      USA    539   71,168.14    473   73,524.18    170   \n",
       "11   Gillingham       UK    397   40,826.37    276   17,181.58    202   \n",
       "12   Gloucester       UK    209   31,433.16    143   19,691.89    135   \n",
       "13     Rayleigh       UK    422   59,827.19    268   41,903.64    131   \n",
       "14  Grand Total           5,014  609,190.76  3,348  425,820.10  1,859   \n",
       "\n",
       "             7       8             9  \n",
       "0         2013                 Total  \n",
       "1    Order Amt   Units     Order Amt  \n",
       "2     9,894.51     533     75,048.04  \n",
       "3     1,101.20      92     12,309.15  \n",
       "4    18,059.50   1,160    110,723.52  \n",
       "5                  120      8,686.36  \n",
       "6    49,945.11   1,810    217,077.32  \n",
       "7     2,560.40     231     22,508.92  \n",
       "8    15,663.56   1,422    178,687.35  \n",
       "9    30,861.76   1,488    182,500.09  \n",
       "10   17,811.46   1,182    162,503.78  \n",
       "11   14,519.68     875     72,527.63  \n",
       "12   17,667.20     487     68,792.25  \n",
       "13   15,232.16     821    116,962.99  \n",
       "14  193,316.54  10,221  1,228,327.40  "
      ]
     },
     "execution_count": 80,
     "metadata": {},
     "output_type": "execute_result"
    }
   ],
   "source": [
    "table_data[0]"
   ]
  },
  {
   "cell_type": "code",
   "execution_count": 35,
   "id": "ff7a47c6",
   "metadata": {},
   "outputs": [],
   "source": [
    "from pdf2image import convert_from_path\n",
    "\n",
    "pdfs = \"1.pdf\"\n",
    "pages = convert_from_path(pdfs, 350,poppler_path=r'D:\\Jupyter Notebooks\\All Notebooks\\poppler-0.68.0\\bin')\n",
    "\n",
    "i = 1\n",
    "for page in pages:\n",
    "    image_name = \"Page_\" + str(i) + \".jpg\"  \n",
    "    page.save(image_name, \"JPEG\")\n",
    "    i = i+1    "
   ]
  },
  {
   "cell_type": "code",
   "execution_count": 39,
   "id": "c34d6180",
   "metadata": {},
   "outputs": [],
   "source": [
    "import cv2\n",
    "from PIL import Image\n",
    "\n",
    "def mark_region(image_path):\n",
    "    \n",
    "    im = cv2.imread(image_path)\n",
    "\n",
    "    gray = cv2.cvtColor(im, cv2.COLOR_BGR2GRAY)\n",
    "    blur = cv2.GaussianBlur(gray, (9,9), 0)\n",
    "    thresh = cv2.adaptiveThreshold(blur,255,cv2.ADAPTIVE_THRESH_GAUSSIAN_C, cv2.THRESH_BINARY_INV,11,30)\n",
    "\n",
    "    # Dilate to combine adjacent text contours\n",
    "    kernel = cv2.getStructuringElement(cv2.MORPH_RECT, (9,9))\n",
    "    dilate = cv2.dilate(thresh, kernel, iterations=4)\n",
    "\n",
    "    # Find contours, highlight text areas, and extract ROIs\n",
    "    cnts = cv2.findContours(dilate, cv2.RETR_EXTERNAL, cv2.CHAIN_APPROX_SIMPLE)\n",
    "    cnts = cnts[0] if len(cnts) == 2 else cnts[1]\n",
    "\n",
    "    line_items_coordinates = []\n",
    "    for c in cnts:\n",
    "        area = cv2.contourArea(c)\n",
    "        x,y,w,h = cv2.boundingRect(c)\n",
    "\n",
    "        if y >= 600 and x <= 1000:\n",
    "            if area > 10000:\n",
    "                image = cv2.rectangle(im, (x,y), (2200, y+h), color=(255,0,255), thickness=3)\n",
    "                line_items_coordinates.append([(x,y), (2200, y+h)])\n",
    "\n",
    "        if y >= 2400 and x<= 2000:\n",
    "            image = cv2.rectangle(im, (x,y), (2200, y+h), color=(255,0,255), thickness=3)\n",
    "            line_items_coordinates.append([(x,y), (2200, y+h)])\n",
    "\n",
    "\n",
    "    return image, line_items_coordinates\n"
   ]
  },
  {
   "cell_type": "code",
   "execution_count": 40,
   "id": "881d4c65",
   "metadata": {},
   "outputs": [
    {
     "name": "stdout",
     "output_type": "stream",
     "text": [
      "ee\n",
      "\n"
     ]
    },
    {
     "data": {
      "image/png": "[encoded data removed]",
      "text/plain": [
       "<Figure size 720x720 with 1 Axes>"
      ]
     },
     "metadata": {
      "needs_background": "light"
     },
     "output_type": "display_data"
    }
   ],
   "source": [
    "image = cv2.imread('Page_1.jpg')\n",
    "image, line_items_coordinates = mark_region(\"Page_1.jpg\")\n",
    "# get co-ordinates to crop the image\n",
    "c = line_items_coordinates[1]\n",
    "\n",
    "# cropping image img = image[y0:y1, x0:x1]\n",
    "img = image[c[0][1]:c[1][1], c[0][0]:c[1][0]]    \n",
    "\n",
    "plt.figure(figsize=(10,10))\n",
    "plt.imshow(img)\n",
    "\n",
    "# convert the image to black and white for better OCR\n",
    "ret,thresh1 = cv2.threshold(img,120,255,cv2.THRESH_BINARY)\n",
    "\n",
    "# pytesseract image to string to get results\n",
    "text = str(pytesseract.image_to_string(thresh1, config='--psm 6'))\n",
    "print(text)"
   ]
  },
  {
   "cell_type": "code",
   "execution_count": 42,
   "id": "ce3c00f7",
   "metadata": {},
   "outputs": [
    {
     "ename": "error",
     "evalue": "OpenCV(4.6.0) D:\\a\\opencv-python\\opencv-python\\opencv\\modules\\highgui\\src\\window_w32.cpp:1261: error: (-27:Null pointer) NULL window: 'image' in function 'cvDestroyWindow'\n",
     "output_type": "error",
     "traceback": [
      "\u001b[1;31m---------------------------------------------------------------------------\u001b[0m",
      "\u001b[1;31merror\u001b[0m                                     Traceback (most recent call last)",
      "\u001b[1;32m<ipython-input-42-b2dc31925861>\u001b[0m in \u001b[0;36m<module>\u001b[1;34m\u001b[0m\n\u001b[0;32m      6\u001b[0m \u001b[0mcv\u001b[0m\u001b[1;33m.\u001b[0m\u001b[0mimshow\u001b[0m\u001b[1;33m(\u001b[0m\u001b[1;34m\"image\"\u001b[0m\u001b[1;33m,\u001b[0m \u001b[0mimg\u001b[0m\u001b[1;33m)\u001b[0m \u001b[1;31m#name the window as \"image\"\u001b[0m\u001b[1;33m\u001b[0m\u001b[1;33m\u001b[0m\u001b[0m\n\u001b[0;32m      7\u001b[0m \u001b[0mcv\u001b[0m\u001b[1;33m.\u001b[0m\u001b[0mwaitKey\u001b[0m\u001b[1;33m(\u001b[0m\u001b[1;36m0\u001b[0m\u001b[1;33m)\u001b[0m\u001b[1;33m\u001b[0m\u001b[1;33m\u001b[0m\u001b[0m\n\u001b[1;32m----> 8\u001b[1;33m \u001b[0mcv\u001b[0m\u001b[1;33m.\u001b[0m\u001b[0mdestroyWindow\u001b[0m\u001b[1;33m(\u001b[0m\u001b[1;34m\"image\"\u001b[0m\u001b[1;33m)\u001b[0m \u001b[1;31m#close the windo\u001b[0m\u001b[1;33m\u001b[0m\u001b[1;33m\u001b[0m\u001b[0m\n\u001b[0m",
      "\u001b[1;31merror\u001b[0m: OpenCV(4.6.0) D:\\a\\opencv-python\\opencv-python\\opencv\\modules\\highgui\\src\\window_w32.cpp:1261: error: (-27:Null pointer) NULL window: 'image' in function 'cvDestroyWindow'\n"
     ]
    }
   ],
   "source": [
    "import cv2 as cv\n",
    "import numpy as np\n",
    "filename = 'Page_1.jpg'\n",
    "img = cv.imread(cv.samples.findFile(filename))\n",
    "cImage = np.copy(img) #image to draw lines\n",
    "cv.imshow(\"image\", img) #name the window as \"image\"\n",
    "cv.waitKey(0)\n",
    "cv.destroyWindow(\"image\") #close the windo"
   ]
  },
  {
   "cell_type": "code",
   "execution_count": 43,
   "id": "3711fdac",
   "metadata": {},
   "outputs": [
    {
     "ename": "SyntaxError",
     "evalue": "invalid syntax (<ipython-input-43-6046e1766d21>, line 1)",
     "output_type": "error",
     "traceback": [
      "\u001b[1;36m  File \u001b[1;32m\"<ipython-input-43-6046e1766d21>\"\u001b[1;36m, line \u001b[1;32m1\u001b[0m\n\u001b[1;33m    minLineLength[, maxLineGap]]]) → lines\u001b[0m\n\u001b[1;37m                  ^\u001b[0m\n\u001b[1;31mSyntaxError\u001b[0m\u001b[1;31m:\u001b[0m invalid syntax\n"
     ]
    }
   ],
   "source": [
    "minLineLength[, maxLineGap]]]) → lines\n",
    "rho = 1\n",
    "theta = np.pi/180\n",
    "threshold = 50\n",
    "minLinLength = 350\n",
    "maxLineGap = 6\n",
    "linesP = cv.HoughLinesP(canny, rho , theta, threshold, None, minLinLength, maxLineGap)"
   ]
  },
  {
   "cell_type": "code",
   "execution_count": null,
   "id": "f944449d",
   "metadata": {},
   "outputs": [],
   "source": []
  }
 ],
 "metadata": {
  "kernelspec": {
   "display_name": "Python 3",
   "language": "python",
   "name": "python3"
  },
  "language_info": {
   "codemirror_mode": {
    "name": "ipython",
    "version": 3
   },
   "file_extension": ".py",
   "mimetype": "text/x-python",
   "name": "python",
   "nbconvert_exporter": "python",
   "pygments_lexer": "ipython3",
   "version": "3.8.8"
  }
 },
 "nbformat": 4,
 "nbformat_minor": 5
}
